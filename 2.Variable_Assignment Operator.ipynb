{
 "cells": [
  {
   "cell_type": "code",
   "execution_count": 1,
   "metadata": {},
   "outputs": [],
   "source": [
    "num1=10\n",
    "num2=30\n",
    "add = num1+num2"
   ]
  },
  {
   "cell_type": "code",
   "execution_count": 2,
   "metadata": {},
   "outputs": [
    {
     "name": "stdout",
     "output_type": "stream",
     "text": [
      "add\n"
     ]
    }
   ],
   "source": [
    "num1=10\n",
    "num2=30\n",
    "add = num1+num2\n",
    "print(\"add\")"
   ]
  },
  {
   "cell_type": "code",
   "execution_count": 3,
   "metadata": {},
   "outputs": [
    {
     "name": "stdout",
     "output_type": "stream",
     "text": [
      "add\n",
      "40\n"
     ]
    }
   ],
   "source": [
    "num1=10\n",
    "num2=30\n",
    "add = num1+num2\n",
    "print(\"add\")\n",
    "print(add)"
   ]
  },
  {
   "cell_type": "code",
   "execution_count": 10,
   "metadata": {},
   "outputs": [
    {
     "name": "stdout",
     "output_type": "stream",
     "text": [
      "Basic Operations of Two Numbers\n",
      "Enter the num1:10\n",
      "Enter the num2:5\n",
      "Addition: 15\n",
      "Subtraction: 5\n",
      "Multiplication: 50\n",
      "Division: 2\n"
     ]
    }
   ],
   "source": [
    "print(\"Basic Operations of Two Numbers\")\n",
    "num1=int(input(\"Enter the num1:\"))\n",
    "num2=int(input(\"Enter the num2:\"))\n",
    "add=num1+num2\n",
    "sub=num1-num2\n",
    "mul=num1*num2\n",
    "div=int(num1/num2)\n",
    "print(\"Addition:\",add)\n",
    "print(\"Subtraction:\",sub)\n",
    "print(\"Multiplication:\",mul)\n",
    "print(\"Division:\",div)"
   ]
  },
  {
   "cell_type": "code",
   "execution_count": null,
   "metadata": {},
   "outputs": [],
   "source": []
  }
 ],
 "metadata": {
  "kernelspec": {
   "display_name": "Python 3",
   "language": "python",
   "name": "python3"
  },
  "language_info": {
   "codemirror_mode": {
    "name": "ipython",
    "version": 3
   },
   "file_extension": ".py",
   "mimetype": "text/x-python",
   "name": "python",
   "nbconvert_exporter": "python",
   "pygments_lexer": "ipython3",
   "version": "3.7.4"
  }
 },
 "nbformat": 4,
 "nbformat_minor": 2
}
